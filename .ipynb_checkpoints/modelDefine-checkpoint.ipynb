{
 "cells": [
  {
   "cell_type": "code",
   "execution_count": 1,
   "id": "shaped-satisfaction",
   "metadata": {},
   "outputs": [],
   "source": [
    "from cond_rnn import ConditionalRNN\n",
    "from tensorflow.keras.models import Model\n",
    "from tensorflow.keras.layers import Input, Conv2D, MaxPooling2D, Flatten, LSTM, TimeDistributed, Dense, Concatenate"
   ]
  },
  {
   "cell_type": "code",
   "execution_count": 2,
   "id": "white-shape",
   "metadata": {},
   "outputs": [
    {
     "name": "stdout",
     "output_type": "stream",
     "text": [
      "WARNING:tensorflow:Layer lstm will not use cuDNN kernel since it doesn't meet the cuDNN kernel criteria. It will use generic GPU kernel as fallback when running on GPU\n"
     ]
    }
   ],
   "source": [
    "inputs=Input(shape=(3,15,80))\n",
    "x = Conv2D(10,(7,3),activation='relu',padding='same')(inputs)\n",
    "x = MaxPooling2D(pool_size=(2,2),padding='same')(x)\n",
    "x = Conv2D(20,(3,3),activation='relu',padding='same')(x)\n",
    "x = MaxPooling2D(pool_size=(2,2),padding='same')(x)\n",
    "x = TimeDistributed(Flatten())(x)\n",
    "\n",
    "diffs = Input(shape=(5))\n",
    "x = ConditionalRNN(256, return_sequences=True, unroll=True)([x,diffs])\n",
    "x = LSTM(128,unroll=True)(x)\n",
    "outputs = Dense(1,activation='sigmoid')(x)\n",
    "\n",
    "model=Model([inputs,diffs],outputs)"
   ]
  },
  {
   "cell_type": "code",
   "execution_count": 3,
   "id": "alien-belle",
   "metadata": {},
   "outputs": [
    {
     "name": "stdout",
     "output_type": "stream",
     "text": [
      "Model: \"model\"\n",
      "__________________________________________________________________________________________________\n",
      "Layer (type)                    Output Shape         Param #     Connected to                     \n",
      "==================================================================================================\n",
      "input_1 (InputLayer)            [(None, 3, 15, 80)]  0                                            \n",
      "__________________________________________________________________________________________________\n",
      "conv2d (Conv2D)                 (None, 3, 15, 10)    16810       input_1[0][0]                    \n",
      "__________________________________________________________________________________________________\n",
      "input_2 (InputLayer)            [(None, 5)]          0                                            \n",
      "__________________________________________________________________________________________________\n",
      "max_pooling2d (MaxPooling2D)    (None, 2, 8, 10)     0           conv2d[0][0]                     \n",
      "__________________________________________________________________________________________________\n",
      "tf.expand_dims (TFOpLambda)     (1, None, 5)         0           input_2[0][0]                    \n",
      "__________________________________________________________________________________________________\n",
      "conv2d_1 (Conv2D)               (None, 2, 8, 20)     1820        max_pooling2d[0][0]              \n",
      "__________________________________________________________________________________________________\n",
      "tf.tile (TFOpLambda)            (2, None, 5)         0           tf.expand_dims[0][0]             \n",
      "__________________________________________________________________________________________________\n",
      "max_pooling2d_1 (MaxPooling2D)  (None, 1, 4, 20)     0           conv2d_1[0][0]                   \n",
      "__________________________________________________________________________________________________\n",
      "dense (Dense)                   (2, None, 256)       1536        tf.tile[0][0]                    \n",
      "__________________________________________________________________________________________________\n",
      "time_distributed (TimeDistribut (None, 1, 80)        0           max_pooling2d_1[0][0]            \n",
      "__________________________________________________________________________________________________\n",
      "tf.unstack (TFOpLambda)         [(None, 256), (None, 0           dense[0][0]                      \n",
      "__________________________________________________________________________________________________\n",
      "rnn (RNN)                       (None, 1, 256)       345088      time_distributed[0][0]           \n",
      "                                                                 tf.unstack[0][0]                 \n",
      "                                                                 tf.unstack[0][1]                 \n",
      "__________________________________________________________________________________________________\n",
      "lstm (LSTM)                     (None, 128)          197120      rnn[0][0]                        \n",
      "__________________________________________________________________________________________________\n",
      "dense_12 (Dense)                (None, 1)            129         lstm[0][0]                       \n",
      "==================================================================================================\n",
      "Total params: 562,503\n",
      "Trainable params: 562,503\n",
      "Non-trainable params: 0\n",
      "__________________________________________________________________________________________________\n"
     ]
    }
   ],
   "source": [
    "model.summary()"
   ]
  },
  {
   "cell_type": "code",
   "execution_count": null,
   "id": "equal-rebel",
   "metadata": {},
   "outputs": [],
   "source": []
  }
 ],
 "metadata": {
  "kernelspec": {
   "display_name": "Python 3",
   "language": "python",
   "name": "python3"
  },
  "language_info": {
   "codemirror_mode": {
    "name": "ipython",
    "version": 3
   },
   "file_extension": ".py",
   "mimetype": "text/x-python",
   "name": "python",
   "nbconvert_exporter": "python",
   "pygments_lexer": "ipython3",
   "version": "3.8.2"
  }
 },
 "nbformat": 4,
 "nbformat_minor": 5
}
