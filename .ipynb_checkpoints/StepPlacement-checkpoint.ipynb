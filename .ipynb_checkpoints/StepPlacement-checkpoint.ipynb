{
 "cells": [
  {
   "cell_type": "markdown",
   "id": "generic-keeping",
   "metadata": {},
   "source": [
    "## 資料處理"
   ]
  },
  {
   "cell_type": "code",
   "execution_count": 3,
   "id": "fifteen-rebound",
   "metadata": {},
   "outputs": [],
   "source": [
    "import numpy as np\n",
    "import json\n",
    "import os"
   ]
  },
  {
   "cell_type": "code",
   "execution_count": 4,
   "id": "embedded-broadway",
   "metadata": {},
   "outputs": [],
   "source": [
    "root_path=\"D:/taiko_generate/preprocessing/audio_np\"\n",
    "audio_path = os.listdir(root_path)\n",
    "audio_path = [ root_path+\"/\"+ad for ad in audio_path]\n",
    "\n",
    "root_path=\"D:/taiko_generate/preprocessing/map_np\"\n",
    "map_path = os.listdir(root_path)\n",
    "map_path = [ root_path+\"/\"+mp for mp in map_path]"
   ]
  },
  {
   "cell_type": "code",
   "execution_count": 5,
   "id": "twenty-thriller",
   "metadata": {},
   "outputs": [],
   "source": [
    "class data_generator:\n",
    "    def __init__(self, audio_path, map_path, batch_size=64):\n",
    "        self.audio_path = audio_path\n",
    "        self.map_path = map_path\n",
    "        self.batch_size = batch_size\n",
    "        data_len=0\n",
    "        for audio in self.audio_path:\n",
    "            audio = np.load(audio)\n",
    "            data_len+=len(audio)\n",
    "        self.steps =data_len // self.batch_size\n",
    "        if data_len % self.batch_size != 0:\n",
    "            self.steps += 1\n",
    "    def __len__(self):\n",
    "        return self.steps\n",
    "    def __iter__(self):\n",
    "        while True:\n",
    "            for i, audio in enumerate(self.audio_path): #所有的音檔path\n",
    "                audio = np.load(audio) #讀音檔\n",
    "                f = open(self.map_path[i], \"r\") #讀所有的map\n",
    "                maps = json.load(f)\n",
    "                f.close()\n",
    "\n",
    "                for key in maps.keys(): #讀所有難度的map\n",
    "                    step=1 #紀錄batch step\n",
    "                    for idx in range(0,len(audio),self.batch_size): #每次取batch_size大小的資料出來\n",
    "                        if idx+self.batch_size > len(audio):\n",
    "                            X = np.array(audio[idx:len(audio)]) #cnn input\n",
    "                        else:\n",
    "                             X = np.array(audio[idx:idx+self.batch_size])\n",
    "                        C = np.zeros((len(X),5)) #condition\n",
    "                        Y = np.zeros(len(X)) #output\n",
    "                        C[:,int(key)]=1\n",
    "\n",
    "                        n=0 #已被記錄過的數量\n",
    "                        for t,_ in maps[key]:\n",
    "                            if (t-7)>step*self.batch_size: #音檔前70ms不取\n",
    "                                break\n",
    "                            else:\n",
    "                                Y[t-(step-1)*self.batch_size-8]=1\n",
    "                                n+=1\n",
    "                        for i in range(n): #把紀錄過的資料pop掉\n",
    "                            maps[key].pop(0)\n",
    "                        step+=1\n",
    "                        yield [X, C], Y"
   ]
  },
  {
   "cell_type": "code",
   "execution_count": 4,
   "id": "romantic-injection",
   "metadata": {},
   "outputs": [
    {
     "data": {
      "text/plain": [
       "7782"
      ]
     },
     "execution_count": 4,
     "metadata": {},
     "output_type": "execute_result"
    }
   ],
   "source": [
    "train_D = data_generator(audio_path,map_path,128)\n",
    "train_D.__len__()"
   ]
  },
  {
   "cell_type": "markdown",
   "id": "dangerous-empty",
   "metadata": {},
   "source": [
    "## 模型建立"
   ]
  },
  {
   "cell_type": "code",
   "execution_count": 5,
   "id": "involved-affiliation",
   "metadata": {},
   "outputs": [],
   "source": [
    "from cond_rnn import ConditionalRNN\n",
    "from tensorflow.keras.models import Model\n",
    "from tensorflow.keras.layers import Input, Conv2D, MaxPooling2D, Flatten, LSTM, TimeDistributed, Dense, Concatenate\n",
    "from tensorflow.keras.optimizers import Adam"
   ]
  },
  {
   "cell_type": "code",
   "execution_count": 6,
   "id": "approximate-station",
   "metadata": {},
   "outputs": [
    {
     "name": "stdout",
     "output_type": "stream",
     "text": [
      "WARNING:tensorflow:Layer lstm will not use cuDNN kernel since it doesn't meet the cuDNN kernel criteria. It will use generic GPU kernel as fallback when running on GPU\n"
     ]
    }
   ],
   "source": [
    "inputs=Input(shape=(15,80,3))\n",
    "x = Conv2D(10,(7,3),activation='relu',padding='same')(inputs)\n",
    "x = MaxPooling2D(pool_size=(2,2),padding='same')(x)\n",
    "x = Conv2D(20,(3,3),activation='relu',padding='same')(x)\n",
    "x = MaxPooling2D(pool_size=(2,2),padding='same')(x)\n",
    "x = TimeDistributed(Flatten())(x)\n",
    "\n",
    "diffs = Input(shape=(5))\n",
    "x = ConditionalRNN(256, return_sequences=True, cell='LSTM', unroll=True)([x,diffs])\n",
    "x = LSTM(128,unroll=True)(x)\n",
    "outputs = Dense(1,activation='sigmoid')(x)\n",
    "\n",
    "model=Model([inputs,diffs],outputs)"
   ]
  },
  {
   "cell_type": "code",
   "execution_count": 7,
   "id": "adjusted-remark",
   "metadata": {},
   "outputs": [
    {
     "name": "stdout",
     "output_type": "stream",
     "text": [
      "Model: \"model\"\n",
      "__________________________________________________________________________________________________\n",
      "Layer (type)                    Output Shape         Param #     Connected to                     \n",
      "==================================================================================================\n",
      "input_1 (InputLayer)            [(None, 15, 80, 3)]  0                                            \n",
      "__________________________________________________________________________________________________\n",
      "conv2d (Conv2D)                 (None, 15, 80, 10)   640         input_1[0][0]                    \n",
      "__________________________________________________________________________________________________\n",
      "input_2 (InputLayer)            [(None, 5)]          0                                            \n",
      "__________________________________________________________________________________________________\n",
      "max_pooling2d (MaxPooling2D)    (None, 8, 40, 10)    0           conv2d[0][0]                     \n",
      "__________________________________________________________________________________________________\n",
      "tf.expand_dims (TFOpLambda)     (1, None, 5)         0           input_2[0][0]                    \n",
      "__________________________________________________________________________________________________\n",
      "conv2d_1 (Conv2D)               (None, 8, 40, 20)    1820        max_pooling2d[0][0]              \n",
      "__________________________________________________________________________________________________\n",
      "tf.tile (TFOpLambda)            (2, None, 5)         0           tf.expand_dims[0][0]             \n",
      "__________________________________________________________________________________________________\n",
      "max_pooling2d_1 (MaxPooling2D)  (None, 4, 20, 20)    0           conv2d_1[0][0]                   \n",
      "__________________________________________________________________________________________________\n",
      "dense (Dense)                   (2, None, 256)       1536        tf.tile[0][0]                    \n",
      "__________________________________________________________________________________________________\n",
      "time_distributed (TimeDistribut (None, 4, 400)       0           max_pooling2d_1[0][0]            \n",
      "__________________________________________________________________________________________________\n",
      "tf.unstack (TFOpLambda)         [(None, 256), (None, 0           dense[0][0]                      \n",
      "__________________________________________________________________________________________________\n",
      "rnn (RNN)                       (None, 4, 256)       672768      time_distributed[0][0]           \n",
      "                                                                 tf.unstack[0][0]                 \n",
      "                                                                 tf.unstack[0][1]                 \n",
      "__________________________________________________________________________________________________\n",
      "lstm (LSTM)                     (None, 128)          197120      rnn[0][0]                        \n",
      "__________________________________________________________________________________________________\n",
      "dense_12 (Dense)                (None, 1)            129         lstm[0][0]                       \n",
      "==================================================================================================\n",
      "Total params: 874,013\n",
      "Trainable params: 874,013\n",
      "Non-trainable params: 0\n",
      "__________________________________________________________________________________________________\n"
     ]
    }
   ],
   "source": [
    "model.compile(\n",
    "    loss='binary_crossentropy',\n",
    "    optimizer=Adam(1e-5), # 用足够小的学习率\n",
    "    metrics=['accuracy']\n",
    ")\n",
    "model.summary()"
   ]
  },
  {
   "cell_type": "code",
   "execution_count": 8,
   "id": "ceramic-hospital",
   "metadata": {},
   "outputs": [
    {
     "name": "stdout",
     "output_type": "stream",
     "text": [
      "Epoch 1/100\n",
      "7782/7782 [==============================] - 199s 25ms/step - loss: 0.2131 - accuracy: 0.9594\n",
      "Epoch 2/100\n",
      "7782/7782 [==============================] - 190s 24ms/step - loss: 0.1294 - accuracy: 0.9650\n",
      "Epoch 3/100\n",
      "7782/7782 [==============================] - 203s 26ms/step - loss: 0.1239 - accuracy: 0.9646\n",
      "Epoch 4/100\n",
      "7782/7782 [==============================] - 191s 25ms/step - loss: 0.1271 - accuracy: 0.9634\n",
      "Epoch 5/100\n",
      "7782/7782 [==============================] - 192s 25ms/step - loss: 0.1128 - accuracy: 0.9652\n",
      "Epoch 6/100\n",
      "7782/7782 [==============================] - 197s 25ms/step - loss: 0.1163 - accuracy: 0.9645\n",
      "Epoch 7/100\n",
      "7782/7782 [==============================] - 192s 25ms/step - loss: 0.1264 - accuracy: 0.9627\n",
      "Epoch 8/100\n",
      "7782/7782 [==============================] - 185s 24ms/step - loss: 0.1037 - accuracy: 0.9662s - loss: 0.1037 - accuracy: \n",
      "Epoch 9/100\n",
      "7782/7782 [==============================] - 197s 25ms/step - loss: 0.1125 - accuracy: 0.9644\n",
      "Epoch 10/100\n",
      "7782/7782 [==============================] - 192s 25ms/step - loss: 0.1239 - accuracy: 0.9625\n",
      "Epoch 11/100\n",
      "7782/7782 [==============================] - 185s 24ms/step - loss: 0.1001 - accuracy: 0.9665\n",
      "Epoch 12/100\n",
      "7782/7782 [==============================] - 197s 25ms/step - loss: 0.1030 - accuracy: 0.9673\n",
      "Epoch 13/100\n",
      "7782/7782 [==============================] - 192s 25ms/step - loss: 0.1216 - accuracy: 0.9623\n",
      "Epoch 14/100\n",
      "7782/7782 [==============================] - 185s 24ms/step - loss: 0.0983 - accuracy: 0.9664\n",
      "Epoch 15/100\n",
      "7782/7782 [==============================] - 197s 25ms/step - loss: 0.1035 - accuracy: 0.9666\n",
      "Epoch 16/100\n",
      "7782/7782 [==============================] - 192s 25ms/step - loss: 0.1181 - accuracy: 0.9627\n",
      "Epoch 17/100\n",
      "7782/7782 [==============================] - 185s 24ms/step - loss: 0.0985 - accuracy: 0.9658\n",
      "Epoch 18/100\n",
      "7782/7782 [==============================] - 197s 25ms/step - loss: 0.1019 - accuracy: 0.9668\n",
      "Epoch 19/100\n",
      "7782/7782 [==============================] - 192s 25ms/step - loss: 0.1135 - accuracy: 0.9640\n",
      "Epoch 20/100\n",
      "7782/7782 [==============================] - 184s 24ms/step - loss: 0.1004 - accuracy: 0.9644\n",
      "Epoch 21/100\n",
      "7782/7782 [==============================] - 197s 25ms/step - loss: 0.0990 - accuracy: 0.9675\n",
      "Epoch 22/100\n",
      "7782/7782 [==============================] - 192s 25ms/step - loss: 0.1074 - accuracy: 0.9657\n",
      "Epoch 23/100\n",
      "7782/7782 [==============================] - 185s 24ms/step - loss: 0.1004 - accuracy: 0.9645\n",
      "Epoch 24/100\n",
      "7782/7782 [==============================] - 196s 25ms/step - loss: 0.0964 - accuracy: 0.9681\n",
      "Epoch 25/100\n",
      "7782/7782 [==============================] - 192s 25ms/step - loss: 0.1058 - accuracy: 0.9658\n",
      "Epoch 26/100\n",
      "7782/7782 [==============================] - 187s 24ms/step - loss: 0.0998 - accuracy: 0.9648\n",
      "Epoch 27/100\n",
      "7782/7782 [==============================] - 195s 25ms/step - loss: 0.0970 - accuracy: 0.9680\n",
      "Epoch 28/100\n",
      "7782/7782 [==============================] - 192s 25ms/step - loss: 0.1050 - accuracy: 0.9658\n",
      "Epoch 29/100\n",
      "7782/7782 [==============================] - 186s 24ms/step - loss: 0.0986 - accuracy: 0.9654\n",
      "Epoch 30/100\n",
      "7782/7782 [==============================] - 197s 25ms/step - loss: 0.0995 - accuracy: 0.9674\n",
      "Epoch 31/100\n",
      "7782/7782 [==============================] - 190s 24ms/step - loss: 0.1057 - accuracy: 0.9655\n",
      "Epoch 32/100\n",
      "7782/7782 [==============================] - 188s 24ms/step - loss: 0.0968 - accuracy: 0.9660\n",
      "Epoch 33/100\n",
      "7782/7782 [==============================] - 196s 25ms/step - loss: 0.1002 - accuracy: 0.9673\n",
      "Epoch 34/100\n",
      "7782/7782 [==============================] - 191s 24ms/step - loss: 0.1041 - accuracy: 0.9663\n",
      "Epoch 35/100\n",
      "7782/7782 [==============================] - 187s 24ms/step - loss: 0.0963 - accuracy: 0.9662\n",
      "Epoch 36/100\n",
      "7782/7782 [==============================] - 196s 25ms/step - loss: 0.0959 - accuracy: 0.9690\n",
      "Epoch 37/100\n",
      "7782/7782 [==============================] - 191s 25ms/step - loss: 0.1017 - accuracy: 0.9674\n",
      "Epoch 38/100\n",
      "7782/7782 [==============================] - 187s 24ms/step - loss: 0.0967 - accuracy: 0.9662\n",
      "Epoch 39/100\n",
      "7782/7782 [==============================] - 196s 25ms/step - loss: 0.0944 - accuracy: 0.9697\n",
      "Epoch 40/100\n",
      "7782/7782 [==============================] - 194s 25ms/step - loss: 0.1039 - accuracy: 0.9666\n",
      "Epoch 41/100\n",
      "7782/7782 [==============================] - 184s 24ms/step - loss: 0.0961 - accuracy: 0.9668\n",
      "Epoch 42/100\n",
      "7782/7782 [==============================] - 195s 25ms/step - loss: 0.0950 - accuracy: 0.9696\n",
      "Epoch 43/100\n",
      "7782/7782 [==============================] - 195s 25ms/step - loss: 0.1035 - accuracy: 0.9667\n",
      "Epoch 44/100\n",
      "7782/7782 [==============================] - 184s 24ms/step - loss: 0.0960 - accuracy: 0.9669\n",
      "Epoch 45/100\n",
      "7782/7782 [==============================] - 198s 25ms/step - loss: 0.0958 - accuracy: 0.9693\n",
      "Epoch 46/100\n",
      "7782/7782 [==============================] - 191s 25ms/step - loss: 0.1006 - accuracy: 0.9679\n",
      "Epoch 47/100\n",
      "7782/7782 [==============================] - 184s 24ms/step - loss: 0.0958 - accuracy: 0.9670\n",
      "Epoch 48/100\n",
      "7782/7782 [==============================] - 199s 26ms/step - loss: 0.0973 - accuracy: 0.9687\n",
      "Epoch 49/100\n",
      "7782/7782 [==============================] - 191s 25ms/step - loss: 0.0991 - accuracy: 0.9683\n",
      "Epoch 50/100\n",
      "7782/7782 [==============================] - 189s 24ms/step - loss: 0.0931 - accuracy: 0.9680\n",
      "Epoch 51/100\n",
      "7782/7782 [==============================] - 194s 25ms/step - loss: 0.0972 - accuracy: 0.9689\n",
      "Epoch 52/100\n",
      "7782/7782 [==============================] - 192s 25ms/step - loss: 0.0988 - accuracy: 0.9682\n",
      "Epoch 53/100\n",
      "7782/7782 [==============================] - 188s 24ms/step - loss: 0.0914 - accuracy: 0.9685\n",
      "Epoch 54/100\n",
      "7782/7782 [==============================] - 194s 25ms/step - loss: 0.0954 - accuracy: 0.9697\n",
      "Epoch 55/100\n",
      "7782/7782 [==============================] - 192s 25ms/step - loss: 0.0965 - accuracy: 0.9689\n",
      "Epoch 56/100\n",
      "7782/7782 [==============================] - 188s 24ms/step - loss: 0.0919 - accuracy: 0.9681\n",
      "Epoch 57/100\n",
      "7782/7782 [==============================] - 194s 25ms/step - loss: 0.0947 - accuracy: 0.9702\n",
      "Epoch 58/100\n",
      "7782/7782 [==============================] - 192s 25ms/step - loss: 0.0923 - accuracy: 0.9701\n",
      "Epoch 59/100\n",
      "7782/7782 [==============================] - 189s 24ms/step - loss: 0.0910 - accuracy: 0.9686\n",
      "Epoch 60/100\n",
      "7782/7782 [==============================] - 192s 25ms/step - loss: 0.0973 - accuracy: 0.9693\n",
      "Epoch 61/100\n",
      "7782/7782 [==============================] - 194s 25ms/step - loss: 0.0939 - accuracy: 0.9695\n",
      "Epoch 62/100\n",
      "7782/7782 [==============================] - 187s 24ms/step - loss: 0.0898 - accuracy: 0.9691\n",
      "Epoch 63/100\n",
      "7782/7782 [==============================] - 192s 25ms/step - loss: 0.0987 - accuracy: 0.9686\n",
      "Epoch 64/100\n",
      "7782/7782 [==============================] - 194s 25ms/step - loss: 0.0958 - accuracy: 0.9687\n",
      "Epoch 65/100\n",
      "7782/7782 [==============================] - 187s 24ms/step - loss: 0.0911 - accuracy: 0.9686\n",
      "Epoch 66/100\n",
      "7782/7782 [==============================] - 193s 25ms/step - loss: 0.0976 - accuracy: 0.9687\n",
      "Epoch 67/100\n",
      "7782/7782 [==============================] - 192s 25ms/step - loss: 0.0948 - accuracy: 0.9686\n",
      "Epoch 68/100\n",
      "7782/7782 [==============================] - 191s 25ms/step - loss: 0.0900 - accuracy: 0.9690\n",
      "Epoch 69/100\n",
      "7782/7782 [==============================] - 191s 25ms/step - loss: 0.0970 - accuracy: 0.9687\n",
      "Epoch 70/100\n",
      "7782/7782 [==============================] - 192s 25ms/step - loss: 0.0969 - accuracy: 0.9676\n",
      "Epoch 71/100\n",
      "7782/7782 [==============================] - 191s 25ms/step - loss: 0.0871 - accuracy: 0.9700\n",
      "Epoch 72/100\n",
      "7782/7782 [==============================] - 192s 25ms/step - loss: 0.0990 - accuracy: 0.9677\n",
      "Epoch 73/100\n",
      "7782/7782 [==============================] - 193s 25ms/step - loss: 0.0941 - accuracy: 0.9686\n",
      "Epoch 74/100\n",
      "7782/7782 [==============================] - 196s 25ms/step - loss: 0.0867 - accuracy: 0.9701\n",
      "Epoch 75/100\n",
      "7782/7782 [==============================] - 188s 24ms/step - loss: 0.1002 - accuracy: 0.9671\n",
      "Epoch 76/100\n",
      "7782/7782 [==============================] - 192s 25ms/step - loss: 0.0911 - accuracy: 0.9697\n",
      "Epoch 77/100\n",
      "7782/7782 [==============================] - 194s 25ms/step - loss: 0.0852 - accuracy: 0.9704\n",
      "Epoch 78/100\n",
      "7782/7782 [==============================] - 187s 24ms/step - loss: 0.0957 - accuracy: 0.9684\n",
      "Epoch 79/100\n",
      "7782/7782 [==============================] - 192s 25ms/step - loss: 0.0917 - accuracy: 0.9695\n",
      "Epoch 80/100\n",
      "7782/7782 [==============================] - 194s 25ms/step - loss: 0.0867 - accuracy: 0.9698\n",
      "Epoch 81/100\n",
      "7782/7782 [==============================] - 188s 24ms/step - loss: 0.0901 - accuracy: 0.9702\n",
      "Epoch 82/100\n",
      "7782/7782 [==============================] - 193s 25ms/step - loss: 0.0940 - accuracy: 0.9687\n",
      "Epoch 83/100\n",
      "7782/7782 [==============================] - 199s 26ms/step - loss: 0.0837 - accuracy: 0.9711\n",
      "Epoch 84/100\n",
      "7782/7782 [==============================] - 190s 24ms/step - loss: 0.0874 - accuracy: 0.9711\n",
      "Epoch 85/100\n",
      "7782/7782 [==============================] - 196s 25ms/step - loss: 0.0950 - accuracy: 0.9685\n",
      "Epoch 86/100\n",
      "7782/7782 [==============================] - 199s 26ms/step - loss: 0.0842 - accuracy: 0.9709\n",
      "Epoch 87/100\n",
      "7782/7782 [==============================] - 189s 24ms/step - loss: 0.0882 - accuracy: 0.9709\n",
      "Epoch 88/100\n",
      "7782/7782 [==============================] - 196s 25ms/step - loss: 0.0948 - accuracy: 0.9685\n",
      "Epoch 89/100\n",
      "7782/7782 [==============================] - 199s 26ms/step - loss: 0.0855 - accuracy: 0.9704\n",
      "Epoch 90/100\n",
      "7782/7782 [==============================] - 191s 25ms/step - loss: 0.0875 - accuracy: 0.9710\n",
      "Epoch 91/100\n",
      "7782/7782 [==============================] - 195s 25ms/step - loss: 0.0935 - accuracy: 0.9688\n",
      "Epoch 92/100\n",
      "7782/7782 [==============================] - 199s 26ms/step - loss: 0.0855 - accuracy: 0.9706\n",
      "Epoch 93/100\n",
      "7782/7782 [==============================] - 191s 25ms/step - loss: 0.0849 - accuracy: 0.9718\n",
      "Epoch 94/100\n",
      "7782/7782 [==============================] - 199s 26ms/step - loss: 0.0951 - accuracy: 0.9683\n",
      "Epoch 95/100\n",
      "7782/7782 [==============================] - 197s 25ms/step - loss: 0.0842 - accuracy: 0.9713\n",
      "Epoch 96/100\n",
      "7782/7782 [==============================] - 189s 24ms/step - loss: 0.0844 - accuracy: 0.9721\n",
      "Epoch 97/100\n",
      "7782/7782 [==============================] - 197s 25ms/step - loss: 0.0952 - accuracy: 0.9682\n",
      "Epoch 98/100\n",
      "7782/7782 [==============================] - 197s 25ms/step - loss: 0.0850 - accuracy: 0.9710\n",
      "Epoch 99/100\n",
      "7782/7782 [==============================] - 190s 24ms/step - loss: 0.0853 - accuracy: 0.9719\n",
      "Epoch 100/100\n",
      "7782/7782 [==============================] - 197s 25ms/step - loss: 0.0963 - accuracy: 0.9679\n"
     ]
    },
    {
     "data": {
      "text/plain": [
       "<tensorflow.python.keras.callbacks.History at 0x19e0e62f910>"
      ]
     },
     "execution_count": 8,
     "metadata": {},
     "output_type": "execute_result"
    }
   ],
   "source": [
    "model.fit(\n",
    "    train_D.__iter__(),\n",
    "    steps_per_epoch=train_D.__len__(),\n",
    "    epochs=100,\n",
    ")"
   ]
  },
  {
   "cell_type": "code",
   "execution_count": null,
   "id": "accessory-wesley",
   "metadata": {},
   "outputs": [],
   "source": [
    "model.save(\"model/StepPlacement100.h5\")"
   ]
  },
  {
   "cell_type": "markdown",
   "id": "planned-shaft",
   "metadata": {},
   "source": [
    "## 測試"
   ]
  },
  {
   "cell_type": "code",
   "execution_count": 1,
   "id": "happy-mediterranean",
   "metadata": {},
   "outputs": [],
   "source": [
    "from tensorflow import keras"
   ]
  },
  {
   "cell_type": "code",
   "execution_count": 2,
   "id": "latter-winning",
   "metadata": {},
   "outputs": [
    {
     "name": "stdout",
     "output_type": "stream",
     "text": [
      "WARNING:tensorflow:Layer lstm will not use cuDNN kernel since it doesn't meet the cuDNN kernel criteria. It will use generic GPU kernel as fallback when running on GPU\n"
     ]
    }
   ],
   "source": [
    "model = keras.models.load_model(\"model/StepPlacement100.h5\")"
   ]
  },
  {
   "cell_type": "code",
   "execution_count": 5,
   "id": "dense-payroll",
   "metadata": {},
   "outputs": [],
   "source": [
    "audio0 = np.load(audio_path[1])"
   ]
  },
  {
   "cell_type": "code",
   "execution_count": 6,
   "id": "portable-rolling",
   "metadata": {},
   "outputs": [],
   "source": [
    "dif = np.zeros(shape=(audio0.shape[0],5))\n",
    "dif[:,1]=1\n",
    "result = model.predict([audio0, dif])"
   ]
  },
  {
   "cell_type": "code",
   "execution_count": 7,
   "id": "focal-andrew",
   "metadata": {},
   "outputs": [],
   "source": [
    "import librosa\n",
    "from librosa.util import peak_pick\n",
    "import matplotlib.pyplot as plt\n",
    "from scipy import signal"
   ]
  },
  {
   "cell_type": "code",
   "execution_count": 8,
   "id": "weekly-organ",
   "metadata": {},
   "outputs": [
    {
     "data": {
      "image/png": "[encoded data removed]",
      "text/plain": [
       "<Figure size 432x288 with 1 Axes>"
      ]
     },
     "metadata": {
      "needs_background": "light"
     },
     "output_type": "display_data"
    }
   ],
   "source": [
    "data = []\n",
    "for r in result:\n",
    "    data.append(r[0])\n",
    "data=np.array(data)\n",
    "\n",
    "data = data*1000\n",
    "data = data.astype(int)\n",
    "\n",
    "win = signal.windows.hamming(50)\n",
    "x = signal.convolve(data,win,mode='same')/sum(win)\n",
    "\n",
    "peaks, _ = signal.find_peaks(x, prominence=1)\n",
    "plt.plot(x)\n",
    "plt.plot(peaks, x[peaks], \"x\")\n",
    "plt.plot(np.zeros_like(x), \"--\", color=\"gray\")\n",
    "plt.show()"
   ]
  },
  {
   "cell_type": "code",
   "execution_count": 9,
   "id": "liberal-advancement",
   "metadata": {},
   "outputs": [
    {
     "data": {
      "text/plain": [
       "array([  263,   346,   420,   494,   622,   692,   801,   835,   869,\n",
       "         902,   936,   971,  1000,  1037,  1071,  1105,  1138,  1172,\n",
       "        1197,  1205,  1240,  1298,  1418,  1475,  1509,  1544,  1576,\n",
       "        1608,  1645,  1699,  1746,  1777,  1812,  1879,  1914,  1966,\n",
       "        2013,  2049,  2083,  2115,  2148,  2208,  2285,  2351,  2382,\n",
       "        2418,  2485,  2518,  2563,  2588,  2612,  2620,  2687,  2780,\n",
       "        2822,  2857,  2882,  2889,  2958,  2992,  3025,  3094,  3126,\n",
       "        3185,  3240,  3333,  3374,  3443,  3493,  3566,  3628,  3710,\n",
       "        3769,  3833,  3866,  3902,  4008,  4046,  4069,  4106,  4181,\n",
       "        4242,  4305,  4340,  4373,  4408,  4443,  4507,  4541,  4567,\n",
       "        4597,  4642,  4672,  4710,  4746,  4781,  4835,  4878,  4916,\n",
       "        4947,  4979,  5048,  5115,  5147,  5184,  5216,  5260,  5349,\n",
       "        5398,  5436,  5481,  5572,  5602,  5650,  5711,  5741,  5817,\n",
       "        5873,  5914,  5966,  6015,  6087,  6153,  6187,  6254,  6330,\n",
       "        6356,  6413,  6448,  6501,  6573,  6643,  6702,  6751,  6814,\n",
       "        6849,  6886,  6931,  6965,  7011,  7056,  7089,  7121,  7146,\n",
       "        7234,  7280,  7323,  7395,  7458,  7510,  7543,  7591,  7651,\n",
       "        7695,  7728,  7765,  7813,  7876,  7914,  8007,  8050,  8116,\n",
       "        8157,  8221,  8265,  8313,  8369,  8415,  8465,  8515,  8566,\n",
       "        8622,  8681,  8739,  8772,  8807,  8890,  8957,  8990,  9027,\n",
       "        9094,  9136,  9192,  9229,  9261,  9298,  9385,  9428,  9455,\n",
       "        9462,  9497,  9532,  9575,  9594,  9635,  9642,  9665,  9691,\n",
       "        9766,  9856,  9882,  9927,  9969, 10037, 10071, 10103, 10168,\n",
       "       10230, 10308, 10340, 10379, 10439, 10509, 10544, 10606, 10635,\n",
       "       10678, 10709, 10775, 10814, 10847, 10879, 10913, 10947, 10982,\n",
       "       11016, 11047, 11114, 11150, 11174, 11271, 11318, 11385, 11447,\n",
       "       11556, 11656, 11725, 11785, 11824, 11854, 11920, 11987, 12069,\n",
       "       12128], dtype=int64)"
      ]
     },
     "execution_count": 9,
     "metadata": {},
     "output_type": "execute_result"
    }
   ],
   "source": [
    "peaks"
   ]
  },
  {
   "cell_type": "code",
   "execution_count": 10,
   "id": "atlantic-recorder",
   "metadata": {},
   "outputs": [
    {
     "name": "stdout",
     "output_type": "stream",
     "text": [
      "[[270, 8], [337, 0], [405, 8], [539, 8], [607, 0], [674, 8], [809, 0], [843, 0], [876, 0], [944, 0], [978, 0], [1011, 0], [1079, 0], [1112, 0], [1146, 0], [1214, 0], [1247, 0], [1281, 0], [1315, 0], [1416, 8], [1450, 8], [1483, 4], [1551, 0], [1584, 8], [1618, 0], [1652, 0], [1685, 8], [1753, 12], [1820, 8], [1854, 0], [1888, 8], [1921, 8], [1955, 0], [1989, 0], [2023, 12], [2090, 0], [2124, 8], [2157, 8], [2191, 0], [2225, 8], [2292, 12], [2326, 0], [2360, 8], [2393, 0], [2427, 0], [2461, 8], [2494, 0], [2562, 0], [2596, 0], [2629, 8], [2697, 0], [2730, 8], [2764, 0], [2798, 0], [2832, 8], [2899, 8], [2933, 8], [2966, 0], [3034, 0], [3067, 8], [3101, 0], [3135, 0], [3169, 0], [3202, 8], [3247, 8], [3292, 8], [3382, 8], [3450, 8], [3506, 0], [3573, 0], [3607, 0], [3641, 8], [3674, 8], [3708, 0], [3775, 12], [3809, 0], [3843, 0], [3876, 8], [3910, 0], [3933, 0], [3955, 8], [3978, 8], [4045, 0], [4079, 0], [4112, 8], [4146, 8], [4180, 0], [4202, 8], [4225, 8], [4247, 8], [4315, 8], [4348, 0], [4382, 8], [4416, 0], [4450, 8], [4517, 0], [4551, 0], [4584, 8], [4618, 0], [4652, 8], [4685, 8], [4719, 0], [4742, 0], [4764, 8], [4787, 8], [4854, 8], [4888, 8], [4921, 0], [4955, 0], [4989, 8], [5011, 0], [5034, 8], [5056, 8], [5124, 0], [5157, 8], [5191, 0], [5225, 8], [5258, 8], [5292, 0], [5326, 0], [5343, 0], [5360, 8], [5376, 8], [5393, 0], [5444, 8], [5461, 0], [5478, 0], [5494, 8], [5528, 0], [5545, 8], [5562, 8], [5579, 8], [5596, 0], [5629, 8], [5646, 0], [5663, 0], [5697, 8], [5730, 0], [5747, 0], [5764, 8], [5798, 0], [5815, 0], [5832, 8], [5848, 8], [5865, 0], [5882, 8], [5916, 8], [5983, 8], [6000, 0], [6017, 8], [6051, 0], [6084, 0], [6101, 0], [6118, 8], [6135, 8], [6152, 8], [6185, 8], [6202, 0], [6219, 0], [6236, 0], [6270, 8], [6287, 0], [6303, 8], [6337, 0], [6354, 0], [6371, 8], [6388, 0], [6421, 8], [6455, 8], [6523, 8], [6539, 0], [6556, 0], [6573, 8], [6607, 8], [6624, 0], [6641, 8], [6674, 8], [6691, 0], [6708, 0], [6725, 8], [6742, 0], [6775, 8], [6792, 8], [6809, 0], [6826, 0], [6843, 8], [6876, 0], [6893, 0], [6910, 8], [6927, 0], [6944, 0], [6961, 8], [6978, 0], [7045, 0], [7079, 8], [7096, 0], [7112, 8], [7146, 0], [7163, 8], [7180, 8], [7197, 0], [7214, 0], [7247, 8], [7264, 8], [7281, 0], [7315, 8], [7348, 8], [7365, 8], [7399, 8], [7416, 0], [7450, 8], [7483, 8], [7500, 8], [7534, 8], [7551, 0], [7584, 8], [7601, 0], [7618, 8], [7635, 8], [7652, 0], [7669, 8], [7702, 0], [7736, 0], [7770, 0], [7787, 8], [7820, 0], [7921, 0], [7972, 8], [8022, 0], [8073, 8], [8124, 0], [8225, 0], [8275, 8], [8326, 0], [8376, 8], [8427, 0], [8528, 0], [8579, 8], [8629, 0], [8680, 0], [8697, 8], [8747, 0], [8764, 8], [8781, 0], [8815, 0], [8831, 8], [8848, 8], [8865, 8], [8882, 8], [8899, 0], [8966, 0], [9000, 8], [9034, 0], [9056, 0], [9079, 8], [9101, 8], [9169, 0], [9202, 0], [9236, 8], [9270, 8], [9303, 0], [9326, 8], [9348, 0], [9371, 0], [9438, 0], [9472, 8], [9506, 0], [9539, 8], [9573, 0], [9640, 0], [9674, 0], [9708, 8], [9742, 0], [9775, 8], [9809, 8], [9843, 0], [9865, 8], [9888, 0], [9910, 8], [9978, 0], [10011, 8], [10045, 0], [10079, 8], [10112, 8], [10146, 0], [10180, 8], [10247, 8], [10281, 8], [10315, 0], [10348, 0], [10382, 8], [10404, 8], [10427, 0], [10449, 0], [10517, 0], [10551, 0], [10567, 0], [10584, 8], [10618, 8], [10635, 8], [10652, 0], [10669, 8], [10685, 0], [10719, 8], [10787, 0], [10820, 0], [10837, 8], [10854, 8], [10888, 0], [10904, 8], [10921, 0], [10938, 8], [10955, 0], [10989, 8], [11056, 8], [11073, 0], [11090, 8], [11124, 0], [11140, 8], [11157, 0], [11191, 0], [11208, 0], [11225, 8], [11242, 8], [11258, 0], [11326, 8], [11343, 0], [11360, 8], [11376, 8], [11393, 0], [11427, 8], [11461, 0], [11478, 8], [11494, 0], [11511, 0], [11528, 8], [11562, 0], [11595, 0], [11612, 0], [11629, 8], [11646, 8], [11663, 0], [11697, 8], [11730, 0], [11747, 8], [11764, 0], [11781, 8], [11798, 0], [11831, 8], [11848, 8], [11865, 0], [12000, 0]]\n"
     ]
    }
   ],
   "source": [
    " f = open(map_path[1], \"r\")\n",
    "maps = json.load(f)\n",
    "f.close()\n",
    "\n",
    "print(maps['1'])"
   ]
  },
  {
   "cell_type": "code",
   "execution_count": null,
   "id": "broke-maker",
   "metadata": {},
   "outputs": [],
   "source": []
  }
 ],
 "metadata": {
  "kernelspec": {
   "display_name": "Python 3",
   "language": "python",
   "name": "python3"
  },
  "language_info": {
   "codemirror_mode": {
    "name": "ipython",
    "version": 3
   },
   "file_extension": ".py",
   "mimetype": "text/x-python",
   "name": "python",
   "nbconvert_exporter": "python",
   "pygments_lexer": "ipython3",
   "version": "3.8.2"
  }
 },
 "nbformat": 4,
 "nbformat_minor": 5
}
